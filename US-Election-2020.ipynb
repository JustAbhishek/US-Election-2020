{
 "cells": [
  {
   "cell_type": "code",
   "execution_count": null,
   "metadata": {},
   "outputs": [],
   "source": [
    "import numpy as np\n",
    "import pandas as pd\n",
    "\n",
    "from textblob import TextBlob\n",
    "from vaderSentiment.vaderSentiment import SentimentIntensityAnalyzer\n",
    "\n",
    "import nltk\n",
    "from nltk.probability import FreqDist\n",
    "from nltk.tokenize import word_tokenize\n",
    "from nltk.corpus import stopwords\n",
    "\n",
    "import time\n",
    "from datetime import datetime as dt, date, time, timedelta\n",
    "\n",
    "import plotly.express as px\n",
    "import re\n",
    "import plotly.graph_objects as go\n",
    "\n",
    "import matplotlib as mpl\n",
    "import matplotlib.pyplot as plt\n",
    "%matplotlib inline\n",
    "from subprocess import check_output\n",
    "from wordcloud import WordCloud, STOPWORDS\n",
    "\n",
    "import cufflinks as cf\n",
    "cf.go_offline()\n",
    "cf.set_config_file(offline=False, world_readable=True)"
   ]
  },
  {
   "cell_type": "code",
   "execution_count": null,
   "metadata": {},
   "outputs": [],
   "source": [
    "df1 = pd.read_csv('hashtag_donaldtrump.csv', lineterminator='\\n')\n",
    "df2 = pd.read_csv('hashtag_joebiden.csv', lineterminator='\\n')\n",
    "df1 = df1.dropna()\n",
    "df2 = df2.dropna()\n",
    "df1 = df1[['created_at', 'tweet', 'user_screen_name', 'user_location', 'source', 'country', 'continent', 'state', 'lat', 'long']]\n",
    "df2 = df2[['created_at', 'tweet', 'user_screen_name', 'user_location', 'source', 'country', 'continent', 'state', 'lat', 'long']]\n",
    "df1.rename(columns={'created_at': 'Timestamp', 'tweet': 'Text', 'user_screen_name': 'Username', 'user_location': 'Location', 'source': 'Device', 'lat': 'Latitude', 'long': 'Longitude'}, inplace=True)\n",
    "df2.rename(columns={'created_at': 'Timestamp', 'tweet': 'Text', 'user_screen_name': 'Username', 'user_location': 'Location', 'source': 'Device', 'lat': 'Latitude', 'long': 'Longitude'}, inplace=True)\n",
    "df1.to_csv(\"tweet_Trump.csv\", index=None)\n",
    "df2.to_csv(\"tweet_Biden.csv\", index=None)"
   ]
  },
  {
   "cell_type": "markdown",
   "metadata": {},
   "source": [
    "## Trump Tweets Data-Preprocessing"
   ]
  },
  {
   "cell_type": "code",
   "execution_count": null,
   "metadata": {},
   "outputs": [],
   "source": [
    "analysis_Trump = pd.read_csv('tweet_Trump.csv')\n",
    "print(analysis_Trump.shape)\n",
    "analysis_Trump.head()"
   ]
  },
  {
   "cell_type": "code",
   "execution_count": null,
   "metadata": {},
   "outputs": [],
   "source": [
    "analysis_Trump['Text'] = analysis_Trump['Text'].astype(str)\n",
    "analysis_Trump.dtypes"
   ]
  },
  {
   "cell_type": "code",
   "execution_count": null,
   "metadata": {},
   "outputs": [],
   "source": [
    "Tdesc_blob = [TextBlob(desc) for desc in analysis_Trump['Text']]\n",
    "#add the sentiment metrics to the dataframe\n",
    "analysis_Trump['polarity'] = [b.sentiment.polarity for b in Tdesc_blob]\n",
    "analysis_Trump['Subjectivity'] = [b.sentiment.subjectivity for b in Tdesc_blob]\n",
    "#show dataframe\n",
    "analysis_Trump"
   ]
  },
  {
   "cell_type": "code",
   "execution_count": null,
   "metadata": {},
   "outputs": [],
   "source": [
    "analysis_Trump.loc[analysis_Trump.polarity > 0,'SENTIMENT'] = 'positive'\n",
    "analysis_Trump.loc[analysis_Trump.polarity == 0,'SENTIMENT'] = 'neutral'\n",
    "analysis_Trump.loc[analysis_Trump.polarity < 0,'SENTIMENT'] = 'negative'\n",
    "analysis_Trump"
   ]
  },
  {
   "cell_type": "markdown",
   "metadata": {},
   "source": [
    "## Biden Tweets Data-Preprocessing"
   ]
  },
  {
   "cell_type": "code",
   "execution_count": null,
   "metadata": {},
   "outputs": [],
   "source": [
    "analysis_Biden = pd.read_csv('tweet_Biden.csv')\n",
    "print(analysis_Biden.shape)\n",
    "analysis_Biden.head()"
   ]
  },
  {
   "cell_type": "code",
   "execution_count": null,
   "metadata": {},
   "outputs": [],
   "source": [
    "analysis_Biden['Text'] = analysis_Biden['Text'].astype(str)\n",
    "analysis_Biden.dtypes"
   ]
  },
  {
   "cell_type": "code",
   "execution_count": null,
   "metadata": {},
   "outputs": [],
   "source": [
    "Bdesc_blob = [TextBlob(desc) for desc in analysis_Biden['Text']]\n",
    "#add the sentiment metrics to the dataframe\n",
    "analysis_Biden['polarity'] = [b.sentiment.polarity for b in Bdesc_blob]\n",
    "analysis_Biden['Subjectivity'] = [b.sentiment.subjectivity for b in Bdesc_blob]\n",
    "#show dataframe\n",
    "analysis_Biden"
   ]
  },
  {
   "cell_type": "code",
   "execution_count": null,
   "metadata": {},
   "outputs": [],
   "source": [
    "analysis_Biden.loc[analysis_Biden.polarity > 0,'SENTIMENT'] = 'positive'\n",
    "analysis_Biden.loc[analysis_Biden.polarity == 0,'SENTIMENT'] = 'neutral'\n",
    "analysis_Biden.loc[analysis_Biden.polarity < 0,'SENTIMENT'] = 'negative'\n",
    "analysis_Biden"
   ]
  },
  {
   "cell_type": "markdown",
   "metadata": {},
   "source": [
    "## Visualization of Trump-Related Tweets"
   ]
  },
  {
   "cell_type": "code",
   "execution_count": null,
   "metadata": {},
   "outputs": [],
   "source": [
    "fig1 = px.scatter(analysis_Trump, x=\"Timestamp\", # date on the x axis\n",
    "               y=\"polarity\", # sentiment on the y axis\n",
    "               hover_data=[\"Location\", \"Username\"], # data to show on hover\n",
    "               color_discrete_sequence=[\"lightseagreen\", \"indianred\", \"mediumpurple\"], # colors to use\n",
    "               color=\"SENTIMENT\", # what should the color depend on?\n",
    "               size=\"Subjectivity\", # the more votes, the bigger the circle\n",
    "               size_max=10, # not too big\n",
    "               labels={\"polarity\": \"Tweet positivity\", \"Timestamp\": \"Date Tweet was posted\"}, # axis names\n",
    "               title=f\"Trump-Related Tweets Analysis\", # title of figure\n",
    "          )\n",
    "\n",
    "fig1.show()"
   ]
  },
  {
   "cell_type": "code",
   "execution_count": null,
   "metadata": {},
   "outputs": [],
   "source": [
    "content_Trump = ' '.join(analysis_Trump[\"Text\"])\n",
    "content_Trump = re.sub(r\"http\\S+\", \"\", content_Trump)\n",
    "content_Trump = content_Trump.replace('rt ', ' ').replace('&amp;', 'and')\n",
    "content_Trump = re.sub('[^A-Za-z0-9]+', ' ', content_Trump)\n",
    "content_Trump = content_Trump.lower()"
   ]
  },
  {
   "cell_type": "code",
   "execution_count": null,
   "metadata": {},
   "outputs": [],
   "source": [
    "tokenized_word = word_tokenize(content_Trump)\n",
    "stop_words=set(stopwords.words(\"english\"))\n",
    "filtered_sent=[]\n",
    "\n",
    "for w in tokenized_word:\n",
    "    if w not in stop_words:\n",
    "        filtered_sent.append(w)\n",
    "fdist = FreqDist(filtered_sent)\n",
    "fd = pd.DataFrame(fdist.most_common(10), columns = [\"Word\",\"Frequency\"]).drop([0]).reindex()"
   ]
  },
  {
   "cell_type": "code",
   "execution_count": null,
   "metadata": {},
   "outputs": [],
   "source": [
    "fig2 = px.bar(fd, x=\"Word\", y=\"Frequency\")\n",
    "fig2.update_traces(marker_color='rgb(240,128,128)', marker_line_color='rgb(8,48,107)', marker_line_width=1.5, opacity=0.8)\n",
    "fig2.show()"
   ]
  },
  {
   "cell_type": "code",
   "execution_count": null,
   "metadata": {},
   "outputs": [],
   "source": [
    "plt.subplots(1,1, figsize=(9,9))\n",
    "wc_b = WordCloud(stopwords=STOPWORDS, \n",
    "                 background_color=\"white\", max_words=2000,\n",
    "                 max_font_size=256, random_state=42,\n",
    "                 width=1600, height=1600)\n",
    "wc_b.generate(content_Trump)\n",
    "plt.imshow(wc_b, interpolation=\"bilinear\")\n",
    "plt.axis('off')\n",
    "plt.show()"
   ]
  },
  {
   "cell_type": "code",
   "execution_count": null,
   "metadata": {},
   "outputs": [],
   "source": [
    "analysis_Trump['polarity'].iplot(\n",
    "    kind='hist',\n",
    "    bins=50,\n",
    "    xTitle='polarity',\n",
    "    linecolor='black',\n",
    "    yTitle='count',\n",
    "    title='Sentiment Polarity Distribution')"
   ]
  },
  {
   "cell_type": "code",
   "execution_count": null,
   "metadata": {},
   "outputs": [],
   "source": [
    "def make_dictionary(dataframe,column):\n",
    "    dictt = {}\n",
    "    for i in list(dataframe[column]):\n",
    "        if i in dictt:\n",
    "            dictt[i] = dictt.get(i) + 1\n",
    "        else:\n",
    "            dictt[i] = 1\n",
    "    return dictt"
   ]
  },
  {
   "cell_type": "code",
   "execution_count": null,
   "metadata": {},
   "outputs": [],
   "source": [
    "country_Trump = make_dictionary(analysis_Trump,'country')\n",
    "state_Trump = make_dictionary(analysis_Trump,'state')\n",
    "continent_Trump = make_dictionary(analysis_Trump,'continent')\n",
    "continent_Trump"
   ]
  },
  {
   "cell_type": "code",
   "execution_count": null,
   "metadata": {},
   "outputs": [],
   "source": [
    "labelsT = ['North America', 'Europe', 'Oceania', 'Asia', 'South America', 'Africa']\n",
    "valuesT = ['108279', '54961', '5410', '14153', '4439', '2035']"
   ]
  },
  {
   "cell_type": "code",
   "execution_count": null,
   "metadata": {},
   "outputs": [],
   "source": [
    "figT = go.Figure(data=[go.Pie(labels=labelsT, values=valuesT)])\n",
    "figT.show()"
   ]
  },
  {
   "cell_type": "markdown",
   "metadata": {},
   "source": [
    "## Visualization of Biden Related Tweets"
   ]
  },
  {
   "cell_type": "code",
   "execution_count": null,
   "metadata": {},
   "outputs": [],
   "source": [
    "fig1 = px.scatter(analysis_Biden, x=\"Timestamp\", # date on the x axis\n",
    "               y=\"polarity\", # sentiment on the y axis\n",
    "               hover_data=[\"Location\", \"Username\"], # data to show on hover\n",
    "               color_discrete_sequence=[\"lightseagreen\", \"indianred\", \"mediumpurple\"], # colors to use\n",
    "               color=\"SENTIMENT\", # what should the color depend on?\n",
    "               size=\"Subjectivity\", # the more votes, the bigger the circle\n",
    "               size_max=10, # not too big\n",
    "               labels={\"polarity\": \"Tweet positivity\", \"Timestamp\": \"Date Tweet was posted\"}, # axis names\n",
    "               title=f\"Biden-Related Tweets Analysis\", # title of figure\n",
    "          )\n",
    "\n",
    "fig1.show()"
   ]
  },
  {
   "cell_type": "code",
   "execution_count": null,
   "metadata": {},
   "outputs": [],
   "source": [
    "content_Biden = ' '.join(analysis_Biden[\"Text\"])\n",
    "content_Biden = re.sub(r\"http\\S+\", \"\", content_Biden)\n",
    "content_Biden = content_Biden.replace('rt ', ' ').replace('&amp;', 'and')\n",
    "content_Biden = re.sub('[^A-Za-z0-9]+', ' ', content_Biden)\n",
    "content_Biden = content_Biden.lower()"
   ]
  },
  {
   "cell_type": "code",
   "execution_count": null,
   "metadata": {},
   "outputs": [],
   "source": [
    "tokenized_word = word_tokenize(content_Biden)\n",
    "stop_words=set(stopwords.words(\"english\"))\n",
    "filtered_sent=[]\n",
    "\n",
    "for w in tokenized_word:\n",
    "    if w not in stop_words:\n",
    "        filtered_sent.append(w)\n",
    "fdist1 = FreqDist(filtered_sent)\n",
    "fd1 = pd.DataFrame(fdist1.most_common(10), columns = [\"Word\",\"Frequency\"]).drop([0]).reindex()"
   ]
  },
  {
   "cell_type": "code",
   "execution_count": null,
   "metadata": {},
   "outputs": [],
   "source": [
    "fig3 = px.bar(fd1, x=\"Word\", y=\"Frequency\")\n",
    "fig3.update_traces(marker_color='rgb(240,128,128)', marker_line_color='rgb(8,48,107)', marker_line_width=1.5, opacity=0.8)\n",
    "fig3.show()"
   ]
  },
  {
   "cell_type": "code",
   "execution_count": null,
   "metadata": {},
   "outputs": [],
   "source": [
    "plt.subplots(1,1, figsize=(9,9))\n",
    "wc_b = WordCloud(stopwords=STOPWORDS, \n",
    "                 background_color=\"white\", max_words=2000,\n",
    "                 max_font_size=256, random_state=42,\n",
    "                 width=1600, height=1600)\n",
    "wc_b.generate(content_Biden)\n",
    "plt.imshow(wc_b, interpolation=\"bilinear\")\n",
    "plt.axis('off')\n",
    "plt.show()"
   ]
  },
  {
   "cell_type": "code",
   "execution_count": null,
   "metadata": {},
   "outputs": [],
   "source": [
    "analysis_Biden['polarity'].iplot(\n",
    "    kind='hist',\n",
    "    bins=50,\n",
    "    xTitle='polarity',\n",
    "    linecolor='black',\n",
    "    yTitle='count',\n",
    "    title='Sentiment Polarity Distribution')"
   ]
  },
  {
   "cell_type": "code",
   "execution_count": null,
   "metadata": {},
   "outputs": [],
   "source": [
    "country_biden = make_dictionary(analysis_Biden,'country')\n",
    "state_biden = make_dictionary(analysis_Biden,'state')\n",
    "continent_biden = make_dictionary(analysis_Biden,'continent')\n",
    "continent_biden"
   ]
  },
  {
   "cell_type": "code",
   "execution_count": null,
   "metadata": {},
   "outputs": [],
   "source": [
    "labelsB = ['North America', 'Europe', 'Oceania', 'Asia', 'South America', 'Africa']\n",
    "valuesB = ['93087', '38722', '3364', '15270', '3949', '1558']"
   ]
  },
  {
   "cell_type": "code",
   "execution_count": null,
   "metadata": {},
   "outputs": [],
   "source": [
    "figB = go.Figure(data=[go.Pie(labels=labelsB, values=valuesB, title='% distribution of Votes')])\n",
    "figB.show()"
   ]
  },
  {
   "cell_type": "code",
   "execution_count": null,
   "metadata": {},
   "outputs": [],
   "source": []
  }
 ],
 "metadata": {
  "kernelspec": {
   "display_name": "Python 3",
   "language": "python",
   "name": "python3"
  },
  "language_info": {
   "codemirror_mode": {
    "name": "ipython",
    "version": 3
   },
   "file_extension": ".py",
   "mimetype": "text/x-python",
   "name": "python",
   "nbconvert_exporter": "python",
   "pygments_lexer": "ipython3",
   "version": "3.7.3"
  }
 },
 "nbformat": 4,
 "nbformat_minor": 4
}
